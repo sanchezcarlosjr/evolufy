{
 "cells": [
  {
   "cell_type": "code",
   "execution_count": null,
   "id": "initial_id",
   "metadata": {
    "editable": true,
    "slideshow": {
     "slide_type": ""
    },
    "tags": [
     "remove_cell"
    ]
   },
   "outputs": [],
   "source": [
    "\n",
    "%load_ext zipline\n",
    "%load_ext dotenv\n",
    "%dotenv\n",
    "import pyfolio as pf\n",
    "import pandas as pd\n",
    "import os\n",
    "import warnings\n",
    "warnings.filterwarnings(\"ignore\")"
   ]
  },
  {
   "cell_type": "code",
   "execution_count": null,
   "id": "d1a078a154d544b9",
   "metadata": {
    "collapsed": false,
    "editable": true,
    "slideshow": {
     "slide_type": ""
    },
    "tags": [
     "parameters"
    ]
   },
   "outputs": [],
   "source": [
    "\n",
    "experiment_setting = {\n",
    "    'live_start_date' : '2017-01-01',\n",
    "    'id' : '1',\n",
    "    'experiment_path' : os.environ['ROOT_DIR'] + '/data/processed/fba7637e-a410-4dda-9a6e-4909f9e03574/experiment_backtesting_1.pkl',\n",
    "    'comment' : '',\n",
    "    'start': '2014',\n",
    "    'end': '2018',\n",
    "    'benchmark_returns_symbol': 'SPY',\n",
    "    'round_trips': True,\n",
    "    'hide_positions': False,\n",
    "}\n",
    "experiment_setting['id']"
   ]
  },
  {
   "cell_type": "markdown",
   "id": "2c878014-8702-4f2a-8323-6cb744517864",
   "metadata": {
    "editable": true,
    "slideshow": {
     "slide_type": ""
    },
    "tags": []
   },
   "source": [
    "# Full Tear Sheet"
   ]
  },
  {
   "cell_type": "code",
   "execution_count": null,
   "outputs": [],
   "source": [
    "from IPython.display import display_markdown\n",
    "\n",
    "display_markdown(f'''#### Experiment {experiment_setting.get('id', 'NA')}\n",
    "Live testing was started at {experiment_setting.get('live_start_date', 'NA')}.\n",
    "Our benchmark was {experiment_setting.get('benchmark_returns_symbol', 'NA')}.\n",
    "{experiment_setting.get('comment', '')}\n",
    "''', raw=True)"
   ],
   "metadata": {
    "collapsed": false
   },
   "id": "f24f358ca9ca530d"
  },
  {
   "cell_type": "code",
   "execution_count": null,
   "outputs": [],
   "source": [
    "import yfinance as yf\n",
    "\n",
    "start = pd.Timestamp(experiment_setting.get('start', ''))\n",
    "end = pd.Timestamp(experiment_setting.get('end', ''))\n",
    "\n",
    "benchmark_rets = yf.download([experiment_setting['benchmark_returns_symbol']], start, end, progress=False)['Close'].pct_change().rename(experiment_setting['benchmark_returns_symbol'])\n",
    "benchmark_rets.index = benchmark_rets.index.tz_localize('UTC')"
   ],
   "metadata": {
    "collapsed": false
   },
   "id": "595410f11116fb9a"
  },
  {
   "cell_type": "code",
   "execution_count": null,
   "id": "727c801287d76d5d",
   "metadata": {
    "collapsed": false,
    "editable": true,
    "slideshow": {
     "slide_type": ""
    },
    "tags": []
   },
   "outputs": [],
   "source": [
    "results = pd.read_pickle(experiment_setting['experiment_path'])\n",
    "returns, positions, transactions = pf.utils.extract_rets_pos_txn_from_zipline(results)\n",
    "\n",
    "pf.create_full_tear_sheet(\n",
    "    returns,\n",
    "    positions=positions,\n",
    "    transactions=transactions,\n",
    "    benchmark_rets=benchmark_rets,\n",
    "    live_start_date=experiment_setting['live_start_date'],\n",
    "    round_trips=experiment_setting['round_trips'],\n",
    "    hide_positions=experiment_setting['hide_positions']\n",
    ")"
   ]
  }
 ],
 "metadata": {
  "kernelspec": {
   "display_name": "evolufy",
   "language": "python",
   "name": "evolufy"
  },
  "language_info": {
   "codemirror_mode": {
    "name": "ipython",
    "version": 3
   },
   "file_extension": ".py",
   "mimetype": "text/x-python",
   "name": "python",
   "nbconvert_exporter": "python",
   "pygments_lexer": "ipython3",
   "version": "3.10.0"
  }
 },
 "nbformat": 4,
 "nbformat_minor": 5
}
