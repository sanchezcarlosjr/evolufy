{
 "cells": [
  {
   "cell_type": "code",
   "execution_count": null,
   "id": "initial_id",
   "metadata": {
    "editable": true,
    "slideshow": {
     "slide_type": ""
    },
    "tags": [
     "remove_cell"
    ]
   },
   "outputs": [],
   "source": [
    "\n",
    "%load_ext zipline\n",
    "%load_ext dotenv\n",
    "%dotenv\n",
    "import pyfolio as pf\n",
    "import pandas as pd\n",
    "import os\n",
    "import warnings\n",
    "warnings.filterwarnings(\"ignore\")"
   ]
  },
  {
   "cell_type": "code",
   "execution_count": 13,
   "id": "d1a078a154d544b9",
   "metadata": {
    "ExecuteTime": {
     "end_time": "2024-01-14T21:40:28.138138185Z",
     "start_time": "2024-01-14T21:40:28.096338245Z"
    },
    "collapsed": false,
    "editable": true,
    "slideshow": {
     "slide_type": ""
    },
    "tags": [
     "parameters"
    ]
   },
   "outputs": [
    {
     "data": {
      "text/plain": [
       "{'live_start_date': '2017-01-01', 'id': '1', 'experiment_path': 'abc/f'}"
      ]
     },
     "execution_count": 13,
     "metadata": {},
     "output_type": "execute_result"
    }
   ],
   "source": [
    "experiment_setting = {\n",
    "    'live_start_date' : '2017-01-01',\n",
    "    'id' : '1',\n",
    "    'experiment_path' : 'abc/f'\n",
    "}\n",
    "experiment_setting"
   ]
  },
  {
   "cell_type": "markdown",
   "id": "2c878014-8702-4f2a-8323-6cb744517864",
   "metadata": {
    "editable": true,
    "slideshow": {
     "slide_type": ""
    },
    "tags": []
   },
   "source": [
    "# Full Tear Sheet"
   ]
  },
  {
   "cell_type": "code",
   "execution_count": 14,
   "outputs": [
    {
     "data": {
      "text/markdown": [
       "## Experiment 1"
      ]
     },
     "metadata": {},
     "output_type": "display_data"
    }
   ],
   "source": [
    "from IPython.display import display_markdown\n",
    "\n",
    "display_markdown(f'''#### Experiment {experiment_setting.get('id', 'NA')}\n",
    "Live testing was started at {experiment_setting.get('live_start_date', 'NA')}.\n",
    "''', raw=True)"
   ],
   "metadata": {
    "collapsed": false,
    "ExecuteTime": {
     "start_time": "2024-01-14T21:40:31.205679652Z"
    }
   },
   "id": "f24f358ca9ca530d"
  },
  {
   "cell_type": "code",
   "execution_count": null,
   "id": "727c801287d76d5d",
   "metadata": {
    "collapsed": false,
    "editable": true,
    "slideshow": {
     "slide_type": ""
    },
    "tags": []
   },
   "outputs": [],
   "source": [
    "results = pd.read_pickle(experiment_setting['experiment_path'])\n",
    "returns, positions, transactions = pf.utils.extract_rets_pos_txn_from_zipline(results)\n",
    "pf.create_full_tear_sheet(returns, positions=positions, transactions=transactions, live_start_date=experiment_setting['live_start_date'], round_trips=True)"
   ]
  }
 ],
 "metadata": {
  "kernelspec": {
   "display_name": "evolufy",
   "language": "python",
   "name": "evolufy"
  },
  "language_info": {
   "codemirror_mode": {
    "name": "ipython",
    "version": 3
   },
   "file_extension": ".py",
   "mimetype": "text/x-python",
   "name": "python",
   "nbconvert_exporter": "python",
   "pygments_lexer": "ipython3",
   "version": "3.10.0"
  }
 },
 "nbformat": 4,
 "nbformat_minor": 5
}
