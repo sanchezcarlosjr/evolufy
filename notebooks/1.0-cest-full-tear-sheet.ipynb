{
 "cells": [
  {
   "cell_type": "code",
   "execution_count": null,
   "id": "initial_id",
   "metadata": {
    "editable": true,
    "slideshow": {
     "slide_type": ""
    },
    "tags": [
     "remove_cell"
    ]
   },
   "outputs": [],
   "source": [
    "\n",
    "%load_ext zipline\n",
    "%load_ext dotenv\n",
    "%dotenv\n",
    "import pyfolio as pf\n",
    "import pandas as pd\n",
    "import os\n",
    "import warnings\n",
    "warnings.filterwarnings(\"ignore\")"
   ]
  },
  {
   "cell_type": "code",
   "execution_count": 34,
   "id": "d1a078a154d544b9",
   "metadata": {
    "collapsed": false,
    "editable": true,
    "slideshow": {
     "slide_type": ""
    },
    "tags": [
     "parameters"
    ],
    "ExecuteTime": {
     "end_time": "2024-01-15T04:51:45.837392618Z",
     "start_time": "2024-01-15T04:51:45.833172340Z"
    }
   },
   "outputs": [
    {
     "data": {
      "text/plain": "'1'"
     },
     "execution_count": 34,
     "metadata": {},
     "output_type": "execute_result"
    }
   ],
   "source": [
    "\n",
    "experiment_setting = {\n",
    "    'live_start_date' : '2017-01-01',\n",
    "    'id' : '1',\n",
    "    'experiment_path' : os.environ['ROOT_DIR'] + '/data/processed/fba7637e-a410-4dda-9a6e-4909f9e03574/experiment_backtesting_1.pkl',\n",
    "    'comment' : '',\n",
    "    'start': '2014',\n",
    "    'end': '2018',\n",
    "    'benchmark_returns_symbol': 'SPY',\n",
    "    'round_trips': True,\n",
    "    'hide_positions': False,\n",
    "    'resultant_capital': 0\n",
    "}\n",
    "experiment_setting['id']"
   ]
  },
  {
   "cell_type": "code",
   "execution_count": 40,
   "outputs": [
    {
     "data": {
      "text/markdown": "#### Experiment [1](https://dagshub.com/sanchezcarlosjr/evolufy/src/main/data/processed/1).\n"
     },
     "metadata": {},
     "output_type": "display_data"
    }
   ],
   "source": [
    "from IPython.display import display_markdown\n",
    "\n",
    "display_markdown(f'''Experiment [{experiment_setting.get('id', 'NA')}](https://dagshub.com/sanchezcarlosjr/evolufy/src/main/data/processed/{experiment_setting.get('id', 'NA')}).\n",
    "''', raw=True)"
   ],
   "metadata": {
    "collapsed": false,
    "ExecuteTime": {
     "end_time": "2024-01-15T05:23:44.564806177Z",
     "start_time": "2024-01-15T05:23:44.523710328Z"
    }
   },
   "id": "4a779ec7bd5aea4c"
  },
  {
   "cell_type": "code",
   "execution_count": 41,
   "outputs": [
    {
     "data": {
      "text/markdown": "#### Full tearsheet.\n\nLive testing was started at 2017-01-01 where SPY was our benchmark and expected return of the market. Using this strategy, the capital at the end of the investment period were 0.00.\n\n\n"
     },
     "metadata": {},
     "output_type": "display_data"
    }
   ],
   "source": [
    "from IPython.display import display_markdown\n",
    "\n",
    "display_markdown(f'''#### Full tear sheet\n",
    "\n",
    "Live testing was started at {experiment_setting.get('live_start_date', 'NA')} where {experiment_setting.get('benchmark_returns_symbol', 'NA'):2} was our benchmark and expected return of the market. Using this strategy, the capital at the end of the investment period were {experiment_setting.get('resultant_capital', 0):.2f}.\n",
    "\n",
    "{experiment_setting.get('comment', '')}\n",
    "''', raw=True)"
   ],
   "metadata": {
    "collapsed": false,
    "ExecuteTime": {
     "end_time": "2024-01-15T05:24:36.541837075Z",
     "start_time": "2024-01-15T05:24:36.500700529Z"
    }
   },
   "id": "f24f358ca9ca530d"
  },
  {
   "cell_type": "code",
   "execution_count": null,
   "outputs": [],
   "source": [
    "import yfinance as yf\n",
    "\n",
    "start = pd.Timestamp(experiment_setting.get('start', ''))\n",
    "end = pd.Timestamp(experiment_setting.get('end', ''))\n",
    "\n",
    "benchmark_rets = yf.download([experiment_setting['benchmark_returns_symbol']], start, end, progress=False)['Close'].pct_change().rename(experiment_setting['benchmark_returns_symbol'])\n",
    "benchmark_rets.index = benchmark_rets.index.tz_localize('UTC')"
   ],
   "metadata": {
    "collapsed": false
   },
   "id": "595410f11116fb9a"
  },
  {
   "cell_type": "code",
   "execution_count": null,
   "id": "727c801287d76d5d",
   "metadata": {
    "collapsed": false,
    "editable": true,
    "slideshow": {
     "slide_type": ""
    },
    "tags": []
   },
   "outputs": [],
   "source": [
    "results = pd.read_pickle(experiment_setting['experiment_path'])\n",
    "returns, positions, transactions = pf.utils.extract_rets_pos_txn_from_zipline(results)\n",
    "\n",
    "pf.create_full_tear_sheet(\n",
    "    returns,\n",
    "    positions=positions,\n",
    "    transactions=transactions,\n",
    "    benchmark_rets=benchmark_rets,\n",
    "    live_start_date=experiment_setting['live_start_date'],\n",
    "    round_trips=experiment_setting['round_trips'],\n",
    "    hide_positions=experiment_setting['hide_positions']\n",
    ")"
   ]
  }
 ],
 "metadata": {
  "kernelspec": {
   "display_name": "evolufy",
   "language": "python",
   "name": "evolufy"
  },
  "language_info": {
   "codemirror_mode": {
    "name": "ipython",
    "version": 3
   },
   "file_extension": ".py",
   "mimetype": "text/x-python",
   "name": "python",
   "nbconvert_exporter": "python",
   "pygments_lexer": "ipython3",
   "version": "3.10.0"
  }
 },
 "nbformat": 4,
 "nbformat_minor": 5
}
