{
 "cells": [
  {
   "cell_type": "code",
   "execution_count": 1,
   "id": "initial_id",
   "metadata": {
    "collapsed": true,
    "ExecuteTime": {
     "end_time": "2024-01-14T02:37:27.536993119Z",
     "start_time": "2024-01-14T02:37:26.267697773Z"
    }
   },
   "outputs": [],
   "source": [
    "%load_ext zipline\n",
    "%load_ext dotenv\n",
    "%dotenv\n",
    "%run helpers.py"
   ]
  },
  {
   "cell_type": "code",
   "execution_count": 137,
   "outputs": [
    {
     "name": "stdout",
     "output_type": "stream",
     "text": [
      "1\n",
      "2\n",
      "3\n",
      "4\n",
      "5\n",
      "6\n",
      "INFO:zipline.finance.metrics.tracker:Simulated 6 trading days\n",
      " first open: 2012-01-03 14:30:00+00:00\n",
      " last close: 2012-01-10 21:00:00+00:00\n"
     ]
    },
    {
     "name": "stderr",
     "output_type": "stream",
     "text": [
      "/home/cest/.conda/envs/evolufy/lib/python3.10/site-packages/zipline/finance/ledger.py:424: FutureWarning: Series.__setitem__ treating keys as positions is deprecated. In a future version, integer keys will always be treated as labels (consistent with DataFrame behavior). To set a value by position, use `ser.iloc[pos] = value`\n",
      "  self.daily_returns_series[session_ix] = self.todays_returns\n"
     ]
    },
    {
     "data": {
      "text/plain": "                                        period_open              period_close  \\\n2012-01-03 21:00:00+00:00 2012-01-03 14:31:00+00:00 2012-01-03 21:00:00+00:00   \n2012-01-04 21:00:00+00:00 2012-01-04 14:31:00+00:00 2012-01-04 21:00:00+00:00   \n2012-01-05 21:00:00+00:00 2012-01-05 14:31:00+00:00 2012-01-05 21:00:00+00:00   \n2012-01-06 21:00:00+00:00 2012-01-06 14:31:00+00:00 2012-01-06 21:00:00+00:00   \n2012-01-09 21:00:00+00:00 2012-01-09 14:31:00+00:00 2012-01-09 21:00:00+00:00   \n2012-01-10 21:00:00+00:00 2012-01-10 14:31:00+00:00 2012-01-10 21:00:00+00:00   \n\n                                                                transactions  \\\n2012-01-03 21:00:00+00:00                                                 []   \n2012-01-04 21:00:00+00:00  [{'amount': 1, 'dt': 2012-01-04 21:00:00+00:00...   \n2012-01-05 21:00:00+00:00                                                 []   \n2012-01-06 21:00:00+00:00                                                 []   \n2012-01-09 21:00:00+00:00                                                 []   \n2012-01-10 21:00:00+00:00  [{'amount': -1, 'dt': 2012-01-10 21:00:00+00:0...   \n\n                           portfolio_value      pnl  \\\n2012-01-03 21:00:00+00:00     1.000000e+07  0.00000   \n2012-01-04 21:00:00+00:00     1.000000e+07 -0.20772   \n2012-01-05 21:00:00+00:00     1.000000e+07  4.59000   \n2012-01-06 21:00:00+00:00     1.000001e+07  4.37000   \n2012-01-09 21:00:00+00:00     1.000001e+07 -0.67000   \n2012-01-10 21:00:00+00:00     1.000001e+07  1.29738   \n\n                                                                      orders  \\\n2012-01-03 21:00:00+00:00  [{'id': '75517d7043f1438da5697e9da94f921c', 'd...   \n2012-01-04 21:00:00+00:00  [{'id': '75517d7043f1438da5697e9da94f921c', 'd...   \n2012-01-05 21:00:00+00:00                                                 []   \n2012-01-06 21:00:00+00:00                                                 []   \n2012-01-09 21:00:00+00:00  [{'id': '0c5a51a8f3e94b56a4cecd20e2be5771', 'd...   \n2012-01-10 21:00:00+00:00  [{'id': '0c5a51a8f3e94b56a4cecd20e2be5771', 'd...   \n\n                           short_exposure  ending_exposure       returns  \\\n2012-01-03 21:00:00+00:00             0.0             0.00  0.000000e+00   \n2012-01-04 21:00:00+00:00             0.0           413.44 -2.077200e-08   \n2012-01-05 21:00:00+00:00             0.0           418.03  4.590000e-07   \n2012-01-06 21:00:00+00:00             0.0           422.40  4.369998e-07   \n2012-01-09 21:00:00+00:00             0.0           421.73 -6.699994e-08   \n2012-01-10 21:00:00+00:00             0.0             0.00  1.297379e-07   \n\n                           short_value  long_exposure  capital_used  \\\n2012-01-03 21:00:00+00:00          0.0           0.00       0.00000   \n2012-01-04 21:00:00+00:00          0.0         413.44    -413.64772   \n2012-01-05 21:00:00+00:00          0.0         418.03       0.00000   \n2012-01-06 21:00:00+00:00          0.0         422.40       0.00000   \n2012-01-09 21:00:00+00:00          0.0         421.73       0.00000   \n2012-01-10 21:00:00+00:00          0.0           0.00     423.02738   \n\n                           ending_value   ending_cash  starting_cash  \\\n2012-01-03 21:00:00+00:00          0.00  1.000000e+07   1.000000e+07   \n2012-01-04 21:00:00+00:00        413.44  9.999586e+06   1.000000e+07   \n2012-01-05 21:00:00+00:00        418.03  9.999586e+06   9.999586e+06   \n2012-01-06 21:00:00+00:00        422.40  9.999586e+06   9.999586e+06   \n2012-01-09 21:00:00+00:00        421.73  9.999586e+06   9.999586e+06   \n2012-01-10 21:00:00+00:00          0.00  1.000001e+07   9.999586e+06   \n\n                           starting_value  starting_exposure  \\\n2012-01-03 21:00:00+00:00            0.00               0.00   \n2012-01-04 21:00:00+00:00            0.00               0.00   \n2012-01-05 21:00:00+00:00          413.44             413.44   \n2012-01-06 21:00:00+00:00          418.03             418.03   \n2012-01-09 21:00:00+00:00          422.40             422.40   \n2012-01-10 21:00:00+00:00          421.73             421.73   \n\n                                                                   positions  \\\n2012-01-03 21:00:00+00:00                                                 []   \n2012-01-04 21:00:00+00:00  [{'sid': Equity(8 [AAPL]), 'amount': 1, 'cost_...   \n2012-01-05 21:00:00+00:00  [{'sid': Equity(8 [AAPL]), 'amount': 1, 'cost_...   \n2012-01-06 21:00:00+00:00  [{'sid': Equity(8 [AAPL]), 'amount': 1, 'cost_...   \n2012-01-09 21:00:00+00:00  [{'sid': Equity(8 [AAPL]), 'amount': 1, 'cost_...   \n2012-01-10 21:00:00+00:00                                                 []   \n\n                           shorts_count  longs_count  long_value  \\\n2012-01-03 21:00:00+00:00             0            0        0.00   \n2012-01-04 21:00:00+00:00             0            1      413.44   \n2012-01-05 21:00:00+00:00             0            1      418.03   \n2012-01-06 21:00:00+00:00             0            1      422.40   \n2012-01-09 21:00:00+00:00             0            1      421.73   \n2012-01-10 21:00:00+00:00             0            0        0.00   \n\n                           gross_leverage  net_leverage  \\\n2012-01-03 21:00:00+00:00        0.000000      0.000000   \n2012-01-04 21:00:00+00:00        0.000041      0.000041   \n2012-01-05 21:00:00+00:00        0.000042      0.000042   \n2012-01-06 21:00:00+00:00        0.000042      0.000042   \n2012-01-09 21:00:00+00:00        0.000042      0.000042   \n2012-01-10 21:00:00+00:00        0.000000      0.000000   \n\n                           benchmark_period_return  benchmark_volatility  \\\n2012-01-03 21:00:00+00:00                      0.0                   NaN   \n2012-01-04 21:00:00+00:00                      0.0                   0.0   \n2012-01-05 21:00:00+00:00                      0.0                   0.0   \n2012-01-06 21:00:00+00:00                      0.0                   0.0   \n2012-01-09 21:00:00+00:00                      0.0                   0.0   \n2012-01-10 21:00:00+00:00                      0.0                   0.0   \n\n                           algorithm_period_return  algo_volatility  \\\n2012-01-03 21:00:00+00:00             0.000000e+00              NaN   \n2012-01-04 21:00:00+00:00            -2.077200e-08     2.331651e-07   \n2012-01-05 21:00:00+00:00             4.382280e-07     4.305152e-06   \n2012-01-06 21:00:00+00:00             8.752280e-07     4.205750e-06   \n2012-01-09 21:00:00+00:00             8.082280e-07     4.169317e-06   \n2012-01-10 21:00:00+00:00             9.379660e-07     3.734879e-06   \n\n                           trading_days  max_leverage  excess_return alpha  \\\n2012-01-03 21:00:00+00:00             1      0.000000            0.0  None   \n2012-01-04 21:00:00+00:00             2      0.000041            0.0  None   \n2012-01-05 21:00:00+00:00             3      0.000042            0.0  None   \n2012-01-06 21:00:00+00:00             4      0.000042            0.0  None   \n2012-01-09 21:00:00+00:00             5      0.000042            0.0  None   \n2012-01-10 21:00:00+00:00             6      0.000042            0.0  None   \n\n                           beta period_label  max_drawdown     sharpe  \\\n2012-01-03 21:00:00+00:00  None      2012-01  0.000000e+00        NaN   \n2012-01-04 21:00:00+00:00  None      2012-01 -2.077200e-08 -11.224972   \n2012-01-05 21:00:00+00:00  None      2012-01 -2.077200e-08   8.550488   \n2012-01-06 21:00:00+00:00  None      2012-01 -2.077200e-08  13.110469   \n2012-01-09 21:00:00+00:00  None      2012-01 -6.699994e-08   9.770110   \n2012-01-10 21:00:00+00:00  None      2012-01 -6.699994e-08  10.547748   \n\n                           treasury_period_return     sortino  \n2012-01-03 21:00:00+00:00                     0.0         NaN  \n2012-01-04 21:00:00+00:00                     0.0  -11.224972  \n2012-01-05 21:00:00+00:00                     0.0  193.357695  \n2012-01-06 21:00:00+00:00                     0.0  334.436041  \n2012-01-09 21:00:00+00:00                     0.0   81.798602  \n2012-01-10 21:00:00+00:00                     0.0   86.657953  ",
      "text/html": "<div>\n<style scoped>\n    .dataframe tbody tr th:only-of-type {\n        vertical-align: middle;\n    }\n\n    .dataframe tbody tr th {\n        vertical-align: top;\n    }\n\n    .dataframe thead th {\n        text-align: right;\n    }\n</style>\n<table border=\"1\" class=\"dataframe\">\n  <thead>\n    <tr style=\"text-align: right;\">\n      <th></th>\n      <th>period_open</th>\n      <th>period_close</th>\n      <th>transactions</th>\n      <th>portfolio_value</th>\n      <th>pnl</th>\n      <th>orders</th>\n      <th>short_exposure</th>\n      <th>ending_exposure</th>\n      <th>returns</th>\n      <th>short_value</th>\n      <th>long_exposure</th>\n      <th>capital_used</th>\n      <th>ending_value</th>\n      <th>ending_cash</th>\n      <th>starting_cash</th>\n      <th>starting_value</th>\n      <th>starting_exposure</th>\n      <th>positions</th>\n      <th>shorts_count</th>\n      <th>longs_count</th>\n      <th>long_value</th>\n      <th>gross_leverage</th>\n      <th>net_leverage</th>\n      <th>benchmark_period_return</th>\n      <th>benchmark_volatility</th>\n      <th>algorithm_period_return</th>\n      <th>algo_volatility</th>\n      <th>trading_days</th>\n      <th>max_leverage</th>\n      <th>excess_return</th>\n      <th>alpha</th>\n      <th>beta</th>\n      <th>period_label</th>\n      <th>max_drawdown</th>\n      <th>sharpe</th>\n      <th>treasury_period_return</th>\n      <th>sortino</th>\n    </tr>\n  </thead>\n  <tbody>\n    <tr>\n      <th>2012-01-03 21:00:00+00:00</th>\n      <td>2012-01-03 14:31:00+00:00</td>\n      <td>2012-01-03 21:00:00+00:00</td>\n      <td>[]</td>\n      <td>1.000000e+07</td>\n      <td>0.00000</td>\n      <td>[{'id': '75517d7043f1438da5697e9da94f921c', 'd...</td>\n      <td>0.0</td>\n      <td>0.00</td>\n      <td>0.000000e+00</td>\n      <td>0.0</td>\n      <td>0.00</td>\n      <td>0.00000</td>\n      <td>0.00</td>\n      <td>1.000000e+07</td>\n      <td>1.000000e+07</td>\n      <td>0.00</td>\n      <td>0.00</td>\n      <td>[]</td>\n      <td>0</td>\n      <td>0</td>\n      <td>0.00</td>\n      <td>0.000000</td>\n      <td>0.000000</td>\n      <td>0.0</td>\n      <td>NaN</td>\n      <td>0.000000e+00</td>\n      <td>NaN</td>\n      <td>1</td>\n      <td>0.000000</td>\n      <td>0.0</td>\n      <td>None</td>\n      <td>None</td>\n      <td>2012-01</td>\n      <td>0.000000e+00</td>\n      <td>NaN</td>\n      <td>0.0</td>\n      <td>NaN</td>\n    </tr>\n    <tr>\n      <th>2012-01-04 21:00:00+00:00</th>\n      <td>2012-01-04 14:31:00+00:00</td>\n      <td>2012-01-04 21:00:00+00:00</td>\n      <td>[{'amount': 1, 'dt': 2012-01-04 21:00:00+00:00...</td>\n      <td>1.000000e+07</td>\n      <td>-0.20772</td>\n      <td>[{'id': '75517d7043f1438da5697e9da94f921c', 'd...</td>\n      <td>0.0</td>\n      <td>413.44</td>\n      <td>-2.077200e-08</td>\n      <td>0.0</td>\n      <td>413.44</td>\n      <td>-413.64772</td>\n      <td>413.44</td>\n      <td>9.999586e+06</td>\n      <td>1.000000e+07</td>\n      <td>0.00</td>\n      <td>0.00</td>\n      <td>[{'sid': Equity(8 [AAPL]), 'amount': 1, 'cost_...</td>\n      <td>0</td>\n      <td>1</td>\n      <td>413.44</td>\n      <td>0.000041</td>\n      <td>0.000041</td>\n      <td>0.0</td>\n      <td>0.0</td>\n      <td>-2.077200e-08</td>\n      <td>2.331651e-07</td>\n      <td>2</td>\n      <td>0.000041</td>\n      <td>0.0</td>\n      <td>None</td>\n      <td>None</td>\n      <td>2012-01</td>\n      <td>-2.077200e-08</td>\n      <td>-11.224972</td>\n      <td>0.0</td>\n      <td>-11.224972</td>\n    </tr>\n    <tr>\n      <th>2012-01-05 21:00:00+00:00</th>\n      <td>2012-01-05 14:31:00+00:00</td>\n      <td>2012-01-05 21:00:00+00:00</td>\n      <td>[]</td>\n      <td>1.000000e+07</td>\n      <td>4.59000</td>\n      <td>[]</td>\n      <td>0.0</td>\n      <td>418.03</td>\n      <td>4.590000e-07</td>\n      <td>0.0</td>\n      <td>418.03</td>\n      <td>0.00000</td>\n      <td>418.03</td>\n      <td>9.999586e+06</td>\n      <td>9.999586e+06</td>\n      <td>413.44</td>\n      <td>413.44</td>\n      <td>[{'sid': Equity(8 [AAPL]), 'amount': 1, 'cost_...</td>\n      <td>0</td>\n      <td>1</td>\n      <td>418.03</td>\n      <td>0.000042</td>\n      <td>0.000042</td>\n      <td>0.0</td>\n      <td>0.0</td>\n      <td>4.382280e-07</td>\n      <td>4.305152e-06</td>\n      <td>3</td>\n      <td>0.000042</td>\n      <td>0.0</td>\n      <td>None</td>\n      <td>None</td>\n      <td>2012-01</td>\n      <td>-2.077200e-08</td>\n      <td>8.550488</td>\n      <td>0.0</td>\n      <td>193.357695</td>\n    </tr>\n    <tr>\n      <th>2012-01-06 21:00:00+00:00</th>\n      <td>2012-01-06 14:31:00+00:00</td>\n      <td>2012-01-06 21:00:00+00:00</td>\n      <td>[]</td>\n      <td>1.000001e+07</td>\n      <td>4.37000</td>\n      <td>[]</td>\n      <td>0.0</td>\n      <td>422.40</td>\n      <td>4.369998e-07</td>\n      <td>0.0</td>\n      <td>422.40</td>\n      <td>0.00000</td>\n      <td>422.40</td>\n      <td>9.999586e+06</td>\n      <td>9.999586e+06</td>\n      <td>418.03</td>\n      <td>418.03</td>\n      <td>[{'sid': Equity(8 [AAPL]), 'amount': 1, 'cost_...</td>\n      <td>0</td>\n      <td>1</td>\n      <td>422.40</td>\n      <td>0.000042</td>\n      <td>0.000042</td>\n      <td>0.0</td>\n      <td>0.0</td>\n      <td>8.752280e-07</td>\n      <td>4.205750e-06</td>\n      <td>4</td>\n      <td>0.000042</td>\n      <td>0.0</td>\n      <td>None</td>\n      <td>None</td>\n      <td>2012-01</td>\n      <td>-2.077200e-08</td>\n      <td>13.110469</td>\n      <td>0.0</td>\n      <td>334.436041</td>\n    </tr>\n    <tr>\n      <th>2012-01-09 21:00:00+00:00</th>\n      <td>2012-01-09 14:31:00+00:00</td>\n      <td>2012-01-09 21:00:00+00:00</td>\n      <td>[]</td>\n      <td>1.000001e+07</td>\n      <td>-0.67000</td>\n      <td>[{'id': '0c5a51a8f3e94b56a4cecd20e2be5771', 'd...</td>\n      <td>0.0</td>\n      <td>421.73</td>\n      <td>-6.699994e-08</td>\n      <td>0.0</td>\n      <td>421.73</td>\n      <td>0.00000</td>\n      <td>421.73</td>\n      <td>9.999586e+06</td>\n      <td>9.999586e+06</td>\n      <td>422.40</td>\n      <td>422.40</td>\n      <td>[{'sid': Equity(8 [AAPL]), 'amount': 1, 'cost_...</td>\n      <td>0</td>\n      <td>1</td>\n      <td>421.73</td>\n      <td>0.000042</td>\n      <td>0.000042</td>\n      <td>0.0</td>\n      <td>0.0</td>\n      <td>8.082280e-07</td>\n      <td>4.169317e-06</td>\n      <td>5</td>\n      <td>0.000042</td>\n      <td>0.0</td>\n      <td>None</td>\n      <td>None</td>\n      <td>2012-01</td>\n      <td>-6.699994e-08</td>\n      <td>9.770110</td>\n      <td>0.0</td>\n      <td>81.798602</td>\n    </tr>\n    <tr>\n      <th>2012-01-10 21:00:00+00:00</th>\n      <td>2012-01-10 14:31:00+00:00</td>\n      <td>2012-01-10 21:00:00+00:00</td>\n      <td>[{'amount': -1, 'dt': 2012-01-10 21:00:00+00:0...</td>\n      <td>1.000001e+07</td>\n      <td>1.29738</td>\n      <td>[{'id': '0c5a51a8f3e94b56a4cecd20e2be5771', 'd...</td>\n      <td>0.0</td>\n      <td>0.00</td>\n      <td>1.297379e-07</td>\n      <td>0.0</td>\n      <td>0.00</td>\n      <td>423.02738</td>\n      <td>0.00</td>\n      <td>1.000001e+07</td>\n      <td>9.999586e+06</td>\n      <td>421.73</td>\n      <td>421.73</td>\n      <td>[]</td>\n      <td>0</td>\n      <td>0</td>\n      <td>0.00</td>\n      <td>0.000000</td>\n      <td>0.000000</td>\n      <td>0.0</td>\n      <td>0.0</td>\n      <td>9.379660e-07</td>\n      <td>3.734879e-06</td>\n      <td>6</td>\n      <td>0.000042</td>\n      <td>0.0</td>\n      <td>None</td>\n      <td>None</td>\n      <td>2012-01</td>\n      <td>-6.699994e-08</td>\n      <td>10.547748</td>\n      <td>0.0</td>\n      <td>86.657953</td>\n    </tr>\n  </tbody>\n</table>\n</div>"
     },
     "execution_count": 137,
     "metadata": {},
     "output_type": "execute_result"
    }
   ],
   "source": [
    "%%zipline --start 2012-01-01 --end 2012-01-10 --no-benchmark\n",
    "\n",
    "from zipline.api import order, record, symbol\n",
    "\n",
    "\n",
    "def initialize(context):\n",
    "    context.i = 1\n",
    "\n",
    "def handle_data(context, data):\n",
    "    print(context.i)\n",
    "    if context.i == 1:\n",
    "        order(symbol('AAPL'), 1)\n",
    "    if context.i == 5:\n",
    "        order(symbol('AAPL'), -1)\n",
    "    context.i+=1"
   ],
   "metadata": {
    "collapsed": false,
    "ExecuteTime": {
     "end_time": "2024-01-15T03:49:12.458774770Z",
     "start_time": "2024-01-15T03:49:12.266521561Z"
    }
   },
   "id": "d30c933e0c0966c3"
  },
  {
   "cell_type": "code",
   "execution_count": 138,
   "outputs": [],
   "source": [
    "perfomance=_"
   ],
   "metadata": {
    "collapsed": false,
    "ExecuteTime": {
     "end_time": "2024-01-15T03:49:18.541615279Z",
     "start_time": "2024-01-15T03:49:18.538926854Z"
    }
   },
   "id": "b06089076195b823"
  },
  {
   "cell_type": "code",
   "execution_count": 140,
   "outputs": [
    {
     "data": {
      "text/plain": "9.379660000000058"
     },
     "execution_count": 140,
     "metadata": {},
     "output_type": "execute_result"
    }
   ],
   "source": [
    "perfomance.capital_used.sum()"
   ],
   "metadata": {
    "collapsed": false,
    "ExecuteTime": {
     "end_time": "2024-01-15T03:49:28.675886855Z",
     "start_time": "2024-01-15T03:49:28.636566349Z"
    }
   },
   "id": "78567db1d591431c"
  },
  {
   "cell_type": "code",
   "execution_count": 158,
   "outputs": [
    {
     "data": {
      "text/plain": "DatetimeIndex(['2012-01-03 21:00:00+00:00', '2012-01-04 21:00:00+00:00',\n               '2012-01-05 21:00:00+00:00', '2012-01-06 21:00:00+00:00',\n               '2012-01-09 21:00:00+00:00', '2012-01-10 21:00:00+00:00'],\n              dtype='datetime64[ns, UTC]', freq=None)"
     },
     "execution_count": 158,
     "metadata": {},
     "output_type": "execute_result"
    }
   ],
   "source": [
    "perfomance.capital_used.index"
   ],
   "metadata": {
    "collapsed": false,
    "ExecuteTime": {
     "end_time": "2024-01-15T04:02:23.165678757Z",
     "start_time": "2024-01-15T04:02:23.163204338Z"
    }
   },
   "id": "edf8cabcba6437d"
  },
  {
   "cell_type": "code",
   "execution_count": 163,
   "outputs": [
    {
     "data": {
      "text/plain": "Timestamp('2012-01-05 00:00:00+0000', tz='UTC')"
     },
     "execution_count": 163,
     "metadata": {},
     "output_type": "execute_result"
    }
   ],
   "source": [
    "pd.Timestamp('2012-01-05').tz_localize('UTC')"
   ],
   "metadata": {
    "collapsed": false,
    "ExecuteTime": {
     "end_time": "2024-01-15T04:03:32.481718213Z",
     "start_time": "2024-01-15T04:03:32.479586432Z"
    }
   },
   "id": "ed7065ed918e819b"
  },
  {
   "cell_type": "code",
   "execution_count": 169,
   "outputs": [
    {
     "data": {
      "text/plain": "2012-01-05 21:00:00+00:00      0.00000\n2012-01-06 21:00:00+00:00      0.00000\n2012-01-09 21:00:00+00:00      0.00000\n2012-01-10 21:00:00+00:00    423.02738\nName: capital_used, dtype: float64"
     },
     "execution_count": 169,
     "metadata": {},
     "output_type": "execute_result"
    }
   ],
   "source": [
    "perfomance.capital_used[perfomance.capital_used.index >= pd.Timestamp('2012-01-05').tz_localize('UTC')]"
   ],
   "metadata": {
    "collapsed": false,
    "ExecuteTime": {
     "end_time": "2024-01-15T04:05:24.797814219Z",
     "start_time": "2024-01-15T04:05:24.792926883Z"
    }
   },
   "id": "970c38db98ce3538"
  },
  {
   "cell_type": "code",
   "execution_count": 168,
   "outputs": [
    {
     "data": {
      "text/plain": "0.0"
     },
     "execution_count": 168,
     "metadata": {},
     "output_type": "execute_result"
    }
   ],
   "source": [],
   "metadata": {
    "collapsed": false,
    "ExecuteTime": {
     "end_time": "2024-01-15T04:05:13.106708464Z",
     "start_time": "2024-01-15T04:05:13.103992749Z"
    }
   },
   "id": "4eabfd2b8e195019"
  },
  {
   "cell_type": "code",
   "execution_count": 170,
   "outputs": [
    {
     "data": {
      "text/plain": "423.02738000000005"
     },
     "execution_count": 170,
     "metadata": {},
     "output_type": "execute_result"
    }
   ],
   "source": [
    "perfomance.capital_used.iloc[-1]-perfomance.capital_used[perfomance.capital_used.index >= pd.Timestamp('2012-01-05').tz_localize('UTC')].iloc[0]"
   ],
   "metadata": {
    "collapsed": false,
    "ExecuteTime": {
     "end_time": "2024-01-15T04:05:34.664039972Z",
     "start_time": "2024-01-15T04:05:34.623332270Z"
    }
   },
   "id": "db74dc261297ad75"
  }
 ],
 "metadata": {
  "kernelspec": {
   "name": "evolufy",
   "language": "python",
   "display_name": "evolufy"
  },
  "language_info": {
   "codemirror_mode": {
    "name": "ipython",
    "version": 2
   },
   "file_extension": ".py",
   "mimetype": "text/x-python",
   "name": "python",
   "nbconvert_exporter": "python",
   "pygments_lexer": "ipython2",
   "version": "2.7.6"
  }
 },
 "nbformat": 4,
 "nbformat_minor": 5
}
