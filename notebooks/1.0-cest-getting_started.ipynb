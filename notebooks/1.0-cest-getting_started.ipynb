{
 "cells": [
  {
   "cell_type": "code",
   "execution_count": 14,
   "id": "73d3a2e5-cd4e-49b6-9416-f9640aae5781",
   "metadata": {
    "ExecuteTime": {
     "end_time": "2024-01-11T10:01:56.027769125Z",
     "start_time": "2024-01-11T10:01:55.986069526Z"
    }
   },
   "outputs": [
    {
     "name": "stdout",
     "output_type": "stream",
     "text": [
      "The dotenv extension is already loaded. To reload it, use:\n",
      "  %reload_ext dotenv\n"
     ]
    }
   ],
   "source": [
    "%load_ext dotenv\n",
    "%dotenv\n",
    "%run helpers.py"
   ]
  }
 ],
 "metadata": {
  "kernelspec": {
   "display_name": "evolufy",
   "language": "python",
   "name": "evolufy"
  },
  "language_info": {
   "codemirror_mode": {
    "name": "ipython",
    "version": 3
   },
   "file_extension": ".py",
   "mimetype": "text/x-python",
   "name": "python",
   "nbconvert_exporter": "python",
   "pygments_lexer": "ipython3",
   "version": "3.8.18"
  }
 },
 "nbformat": 4,
 "nbformat_minor": 5
}
