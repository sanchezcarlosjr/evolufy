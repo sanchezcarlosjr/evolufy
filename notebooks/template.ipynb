{
 "cells": [
  {
   "cell_type": "code",
   "execution_count": 1,
   "id": "initial_id",
   "metadata": {
    "collapsed": true,
    "ExecuteTime": {
     "end_time": "2024-01-01T01:56:27.945675125Z",
     "start_time": "2024-01-01T01:56:27.285298457Z"
    }
   },
   "outputs": [],
   "source": [
    "%run helpers.py\n",
    "%load_ext dotenv\n",
    "%dotenv"
   ]
  },
  {
   "cell_type": "code",
   "execution_count": null,
   "outputs": [],
   "source": [
    "# evolufy"
   ],
   "metadata": {
    "collapsed": false
   },
   "id": "9554226c092901d"
  }
 ],
 "metadata": {
  "kernelspec": {
   "name": "evolufy",
   "language": "python",
   "display_name": "evolufy"
  },
  "language_info": {
   "codemirror_mode": {
    "name": "ipython",
    "version": 2
   },
   "file_extension": ".py",
   "mimetype": "text/x-python",
   "name": "python",
   "nbconvert_exporter": "python",
   "pygments_lexer": "ipython2",
   "version": "2.7.6"
  }
 },
 "nbformat": 4,
 "nbformat_minor": 5
}
