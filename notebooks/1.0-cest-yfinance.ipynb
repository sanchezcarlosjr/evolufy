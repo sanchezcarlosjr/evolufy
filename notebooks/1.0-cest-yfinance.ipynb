{
 "cells": [
  {
   "cell_type": "code",
   "execution_count": 1,
   "id": "initial_id",
   "metadata": {
    "collapsed": true,
    "ExecuteTime": {
     "end_time": "2024-01-11T09:18:52.504419745Z",
     "start_time": "2024-01-11T09:18:51.700277462Z"
    }
   },
   "outputs": [],
   "source": [
    "%load_ext dotenv\n",
    "%dotenv\n",
    "%run helpers.py"
   ]
  },
  {
   "cell_type": "code",
   "execution_count": 33,
   "outputs": [
    {
     "data": {
      "text/plain": "                    Symbol   Adj Close       Close        High         Low  \\\nDate                                                                         \n2017-01-03 00:00:00   AAPL   27.023703   29.037500   29.082500   28.690001   \n2017-01-03 00:00:00    SPY  199.819534  225.240005  225.830002  223.880005   \n2017-01-04 00:00:00   AAPL   26.993460   29.004999   29.127501   28.937500   \n2017-01-04 00:00:00    SPY  201.008301  226.580002  226.750000  225.610001   \n2017-01-05 00:00:00   AAPL   27.130726   29.152500   29.215000   28.952499   \n...                    ...         ...         ...         ...         ...   \n2024-01-08 00:00:00    SPY  474.600006  474.600006  474.750000  468.299988   \n2024-01-09 00:00:00   AAPL  185.139999  185.139999  185.149994  182.729996   \n2024-01-09 00:00:00    SPY  473.880005  473.880005  474.929993  471.350006   \n2024-01-10 00:00:00   AAPL  186.190002  186.190002  186.399994  183.919998   \n2024-01-10 00:00:00    SPY  476.559998  476.559998  477.448090  473.869995   \n\n                           Open     Volume  \nDate                                        \n2017-01-03 00:00:00   28.950001  115127600  \n2017-01-03 00:00:00  225.039993   91366500  \n2017-01-04 00:00:00   28.962500   84472400  \n2017-01-04 00:00:00  225.619995   78744400  \n2017-01-05 00:00:00   28.980000   88774400  \n...                         ...        ...  \n2024-01-08 00:00:00  468.429993   74879100  \n2024-01-09 00:00:00  183.919998   42841800  \n2024-01-09 00:00:00  471.869995   65931400  \n2024-01-10 00:00:00  184.350006   45783329  \n2024-01-10 00:00:00  474.160004   66379560  \n\n[3534 rows x 7 columns]",
      "text/html": "<div>\n<style scoped>\n    .dataframe tbody tr th:only-of-type {\n        vertical-align: middle;\n    }\n\n    .dataframe tbody tr th {\n        vertical-align: top;\n    }\n\n    .dataframe thead th {\n        text-align: right;\n    }\n</style>\n<table border=\"1\" class=\"dataframe\">\n  <thead>\n    <tr style=\"text-align: right;\">\n      <th></th>\n      <th>Symbol</th>\n      <th>Adj Close</th>\n      <th>Close</th>\n      <th>High</th>\n      <th>Low</th>\n      <th>Open</th>\n      <th>Volume</th>\n    </tr>\n    <tr>\n      <th>Date</th>\n      <th></th>\n      <th></th>\n      <th></th>\n      <th></th>\n      <th></th>\n      <th></th>\n      <th></th>\n    </tr>\n  </thead>\n  <tbody>\n    <tr>\n      <th>2017-01-03 00:00:00</th>\n      <td>AAPL</td>\n      <td>27.023703</td>\n      <td>29.037500</td>\n      <td>29.082500</td>\n      <td>28.690001</td>\n      <td>28.950001</td>\n      <td>115127600</td>\n    </tr>\n    <tr>\n      <th>2017-01-03 00:00:00</th>\n      <td>SPY</td>\n      <td>199.819534</td>\n      <td>225.240005</td>\n      <td>225.830002</td>\n      <td>223.880005</td>\n      <td>225.039993</td>\n      <td>91366500</td>\n    </tr>\n    <tr>\n      <th>2017-01-04 00:00:00</th>\n      <td>AAPL</td>\n      <td>26.993460</td>\n      <td>29.004999</td>\n      <td>29.127501</td>\n      <td>28.937500</td>\n      <td>28.962500</td>\n      <td>84472400</td>\n    </tr>\n    <tr>\n      <th>2017-01-04 00:00:00</th>\n      <td>SPY</td>\n      <td>201.008301</td>\n      <td>226.580002</td>\n      <td>226.750000</td>\n      <td>225.610001</td>\n      <td>225.619995</td>\n      <td>78744400</td>\n    </tr>\n    <tr>\n      <th>2017-01-05 00:00:00</th>\n      <td>AAPL</td>\n      <td>27.130726</td>\n      <td>29.152500</td>\n      <td>29.215000</td>\n      <td>28.952499</td>\n      <td>28.980000</td>\n      <td>88774400</td>\n    </tr>\n    <tr>\n      <th>...</th>\n      <td>...</td>\n      <td>...</td>\n      <td>...</td>\n      <td>...</td>\n      <td>...</td>\n      <td>...</td>\n      <td>...</td>\n    </tr>\n    <tr>\n      <th>2024-01-08 00:00:00</th>\n      <td>SPY</td>\n      <td>474.600006</td>\n      <td>474.600006</td>\n      <td>474.750000</td>\n      <td>468.299988</td>\n      <td>468.429993</td>\n      <td>74879100</td>\n    </tr>\n    <tr>\n      <th>2024-01-09 00:00:00</th>\n      <td>AAPL</td>\n      <td>185.139999</td>\n      <td>185.139999</td>\n      <td>185.149994</td>\n      <td>182.729996</td>\n      <td>183.919998</td>\n      <td>42841800</td>\n    </tr>\n    <tr>\n      <th>2024-01-09 00:00:00</th>\n      <td>SPY</td>\n      <td>473.880005</td>\n      <td>473.880005</td>\n      <td>474.929993</td>\n      <td>471.350006</td>\n      <td>471.869995</td>\n      <td>65931400</td>\n    </tr>\n    <tr>\n      <th>2024-01-10 00:00:00</th>\n      <td>AAPL</td>\n      <td>186.190002</td>\n      <td>186.190002</td>\n      <td>186.399994</td>\n      <td>183.919998</td>\n      <td>184.350006</td>\n      <td>45783329</td>\n    </tr>\n    <tr>\n      <th>2024-01-10 00:00:00</th>\n      <td>SPY</td>\n      <td>476.559998</td>\n      <td>476.559998</td>\n      <td>477.448090</td>\n      <td>473.869995</td>\n      <td>474.160004</td>\n      <td>66379560</td>\n    </tr>\n  </tbody>\n</table>\n<p>3534 rows × 7 columns</p>\n</div>"
     },
     "execution_count": 33,
     "metadata": {},
     "output_type": "execute_result"
    }
   ],
   "source": [
    "(data\n",
    "   .stack()\n",
    "   .reset_index()\n",
    "   .set_index('Date')\n",
    "   .rename(index=str, columns={\"level_1\": \"Symbol\"})\n",
    "   .sort_index()\n",
    " )"
   ],
   "metadata": {
    "collapsed": false,
    "ExecuteTime": {
     "end_time": "2024-01-11T02:24:46.249031567Z",
     "start_time": "2024-01-11T02:24:46.224381133Z"
    }
   },
   "id": "beb69a1100d7b88f"
  },
  {
   "cell_type": "code",
   "execution_count": 2,
   "outputs": [
    {
     "data": {
      "text/plain": "        Date Symbol   Adj Close       Close        High         Low  \\\n0 2017-01-03   AAPL   27.023703   29.037500   29.082500   28.690001   \n1 2017-01-03    SPY  199.819534  225.240005  225.830002  223.880005   \n2 2017-01-04   AAPL   26.993460   29.004999   29.127501   28.937500   \n3 2017-01-04    SPY  201.008301  226.580002  226.750000  225.610001   \n4 2017-01-05   AAPL   27.130726   29.152500   29.215000   28.952499   \n\n         Open     Volume  \n0   28.950001  115127600  \n1  225.039993   91366500  \n2   28.962500   84472400  \n3  225.619995   78744400  \n4   28.980000   88774400  ",
      "text/html": "<div>\n<style scoped>\n    .dataframe tbody tr th:only-of-type {\n        vertical-align: middle;\n    }\n\n    .dataframe tbody tr th {\n        vertical-align: top;\n    }\n\n    .dataframe thead th {\n        text-align: right;\n    }\n</style>\n<table border=\"1\" class=\"dataframe\">\n  <thead>\n    <tr style=\"text-align: right;\">\n      <th></th>\n      <th>Date</th>\n      <th>Symbol</th>\n      <th>Adj Close</th>\n      <th>Close</th>\n      <th>High</th>\n      <th>Low</th>\n      <th>Open</th>\n      <th>Volume</th>\n    </tr>\n  </thead>\n  <tbody>\n    <tr>\n      <th>0</th>\n      <td>2017-01-03</td>\n      <td>AAPL</td>\n      <td>27.023703</td>\n      <td>29.037500</td>\n      <td>29.082500</td>\n      <td>28.690001</td>\n      <td>28.950001</td>\n      <td>115127600</td>\n    </tr>\n    <tr>\n      <th>1</th>\n      <td>2017-01-03</td>\n      <td>SPY</td>\n      <td>199.819534</td>\n      <td>225.240005</td>\n      <td>225.830002</td>\n      <td>223.880005</td>\n      <td>225.039993</td>\n      <td>91366500</td>\n    </tr>\n    <tr>\n      <th>2</th>\n      <td>2017-01-04</td>\n      <td>AAPL</td>\n      <td>26.993460</td>\n      <td>29.004999</td>\n      <td>29.127501</td>\n      <td>28.937500</td>\n      <td>28.962500</td>\n      <td>84472400</td>\n    </tr>\n    <tr>\n      <th>3</th>\n      <td>2017-01-04</td>\n      <td>SPY</td>\n      <td>201.008301</td>\n      <td>226.580002</td>\n      <td>226.750000</td>\n      <td>225.610001</td>\n      <td>225.619995</td>\n      <td>78744400</td>\n    </tr>\n    <tr>\n      <th>4</th>\n      <td>2017-01-05</td>\n      <td>AAPL</td>\n      <td>27.130726</td>\n      <td>29.152500</td>\n      <td>29.215000</td>\n      <td>28.952499</td>\n      <td>28.980000</td>\n      <td>88774400</td>\n    </tr>\n  </tbody>\n</table>\n</div>"
     },
     "execution_count": 2,
     "metadata": {},
     "output_type": "execute_result"
    }
   ],
   "source": [
    "df: pd.DataFrame = pd.read_parquet(raw_path('tickets.parquet'))\n",
    "df.head()"
   ],
   "metadata": {
    "collapsed": false,
    "ExecuteTime": {
     "end_time": "2024-01-11T09:19:06.196277798Z",
     "start_time": "2024-01-11T09:19:06.151020917Z"
    }
   },
   "id": "21e176657bfdffab"
  },
  {
   "cell_type": "code",
   "execution_count": null,
   "outputs": [],
   "source": [],
   "metadata": {
    "collapsed": false
   },
   "id": "3e989e667c69f7e3"
  }
 ],
 "metadata": {
  "kernelspec": {
   "name": "evolufy",
   "language": "python",
   "display_name": "evolufy"
  },
  "language_info": {
   "codemirror_mode": {
    "name": "ipython",
    "version": 2
   },
   "file_extension": ".py",
   "mimetype": "text/x-python",
   "name": "python",
   "nbconvert_exporter": "python",
   "pygments_lexer": "ipython2",
   "version": "2.7.6"
  }
 },
 "nbformat": 4,
 "nbformat_minor": 5
}
